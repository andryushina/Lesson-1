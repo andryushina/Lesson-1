{
 "cells": [
  {
   "cell_type": "markdown",
   "metadata": {},
   "source": [
    "## Solve a quadratic equation, $x^2 + b x + c = 0$."
   ]
  },
  {
   "cell_type": "code",
   "execution_count": 1,
   "metadata": {},
   "outputs": [],
   "source": [
    "def solve_quad(b, c):\n",
    "    \"\"\"Solve a quadratic equation, x**2 + bx + c = 0.\n",
    "    \n",
    "    Parameters\n",
    "    ----------\n",
    "    b, c : float\n",
    "       Coefficients\n",
    "       \n",
    "    Returns\n",
    "    -------\n",
    "    x1, x2 : float or complex\n",
    "       Roots.\n",
    "    \"\"\"\n",
    "    D = b**2 - 4 * c\n",
    "    if b > 1e6:\n",
    "        if D > 0:\n",
    "            x2 = (-b - pow(D, 0.5)) / 2\n",
    "            x1 = c/x2\n",
    "        elif D == 0:\n",
    "            x2 = -b/2\n",
    "            x1 = -b/2\n",
    "        else:\n",
    "            x2 = complex(-b/2, -pow(-D, 0.5)/2)\n",
    "            x1 = c/x2\n",
    "    elif b < -1e6:\n",
    "        if D > 0:\n",
    "            x1 = (-b + pow(D, 0.5)) / 2\n",
    "            x2 = c/x1\n",
    "        elif D == 0:\n",
    "            x1 = -b/2\n",
    "            x2 = -b/2\n",
    "        else:\n",
    "            x1 = complex(-b/2, pow(-D, 0.5)/2)\n",
    "            x2 = c/x1\n",
    "    else:\n",
    "        if D > 0:\n",
    "            x1 = (-b + pow(D, 0.5)) / 2\n",
    "            x2 = (-b - pow(D, 0.5)) / 2\n",
    "        elif D == 0:\n",
    "            x1 = -b/2\n",
    "            x2 = -b/2\n",
    "        else:\n",
    "            x1 = complex(-b/2, pow(-D, 0.5)/2)\n",
    "            x2 = complex(-b/2, -pow(-D, 0.5)/2)\n",
    "    return x1, x2"
   ]
  },
  {
   "cell_type": "markdown",
   "metadata": {},
   "source": [
    "Test the function"
   ]
  },
  {
   "cell_type": "code",
   "execution_count": 2,
   "metadata": {},
   "outputs": [],
   "source": [
    "from numpy import allclose"
   ]
  },
  {
   "cell_type": "code",
   "execution_count": 3,
   "metadata": {},
   "outputs": [],
   "source": [
    "variants = [{'b': 4.0, 'c': 3.0},\n",
    "            {'b': 2.0, 'c': 1.0},\n",
    "            {'b': 0.5, 'c': 4.0},\n",
    "            {'b': 1e10, 'c': 3.0},\n",
    "            {'b': -1e10, 'c': 4.0},]"
   ]
  },
  {
   "cell_type": "code",
   "execution_count": 5,
   "metadata": {},
   "outputs": [
    {
     "name": "stdout",
     "output_type": "stream",
     "text": [
      "-1.0 -3.0\n",
      "True\n",
      "-1.0 -1.0\n",
      "True\n",
      "(-0.25+1.984313483298443j) (-0.25-1.984313483298443j)\n",
      "True\n",
      "-3e-10 -10000000000.0\n",
      "True\n",
      "10000000000.0 4e-10\n",
      "True\n"
     ]
    }
   ],
   "source": [
    "for var in variants:\n",
    "    x1, x2 = solve_quad(**var)\n",
    "    print(x1,x2)\n",
    "    print(allclose(x1*x2, var['c']))"
   ]
  },
  {
   "cell_type": "markdown",
   "metadata": {},
   "source": [
    "You will need to list solutions for last test's parameters (`{'b': -1e10, 'c': 4.0}`) in order to put them in respective field in Google Form for this lesson."
   ]
  },
  {
   "cell_type": "code",
   "execution_count": 1,
   "metadata": {},
   "outputs": [],
   "source": [
    "# ...\n",
    "# enter your code here\n",
    "# ..."
   ]
  },
  {
   "cell_type": "code",
   "execution_count": null,
   "metadata": {},
   "outputs": [],
   "source": []
  }
 ],
 "metadata": {
  "kernelspec": {
   "display_name": "Python 3",
   "language": "python",
   "name": "python3"
  },
  "language_info": {
   "codemirror_mode": {
    "name": "ipython",
    "version": 3
   },
   "file_extension": ".py",
   "mimetype": "text/x-python",
   "name": "python",
   "nbconvert_exporter": "python",
   "pygments_lexer": "ipython3",
   "version": "3.7.3"
  }
 },
 "nbformat": 4,
 "nbformat_minor": 2
}
